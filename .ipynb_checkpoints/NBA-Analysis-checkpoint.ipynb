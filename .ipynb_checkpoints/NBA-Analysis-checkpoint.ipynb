{
 "cells": [
  {
   "cell_type": "markdown",
   "id": "4857bf5c",
   "metadata": {},
   "source": [
    "# NBA Analysis"
   ]
  },
  {
   "cell_type": "markdown",
   "id": "fb965cd2",
   "metadata": {},
   "source": [
    "Standard imports"
   ]
  },
  {
   "cell_type": "code",
   "execution_count": 6,
   "id": "2e01498c",
   "metadata": {},
   "outputs": [],
   "source": [
    "import pandas as pd\n",
    "import numpy as np\n",
    "import requests\n",
    "from nba_api.stats import endpoints\n",
    "from matplotlib import pyplot as plt\n",
    "from nba_api.stats.endpoints import leaguedashplayerstats\n",
    "from nba_api.stats.endpoints import leaguedashplayerbiostats\n"
   ]
  },
  {
   "cell_type": "markdown",
   "id": "b3e12cd2",
   "metadata": {},
   "source": [
    "### Finding all active players, their height in inches, and points for the 2020-2021 Season"
   ]
  },
  {
   "cell_type": "code",
   "execution_count": 3,
   "id": "86c0d5ba",
   "metadata": {},
   "outputs": [
    {
     "data": {
      "text/html": [
       "<div>\n",
       "<style scoped>\n",
       "    .dataframe tbody tr th:only-of-type {\n",
       "        vertical-align: middle;\n",
       "    }\n",
       "\n",
       "    .dataframe tbody tr th {\n",
       "        vertical-align: top;\n",
       "    }\n",
       "\n",
       "    .dataframe thead th {\n",
       "        text-align: right;\n",
       "    }\n",
       "</style>\n",
       "<table border=\"1\" class=\"dataframe\">\n",
       "  <thead>\n",
       "    <tr style=\"text-align: right;\">\n",
       "      <th></th>\n",
       "      <th>PLAYER_ID</th>\n",
       "      <th>PLAYER_NAME</th>\n",
       "      <th>TEAM_ID</th>\n",
       "      <th>TEAM_ABBREVIATION</th>\n",
       "      <th>AGE</th>\n",
       "      <th>PLAYER_HEIGHT</th>\n",
       "      <th>PLAYER_HEIGHT_INCHES</th>\n",
       "      <th>PLAYER_WEIGHT</th>\n",
       "      <th>COLLEGE</th>\n",
       "      <th>COUNTRY</th>\n",
       "      <th>...</th>\n",
       "      <th>GP</th>\n",
       "      <th>PTS</th>\n",
       "      <th>REB</th>\n",
       "      <th>AST</th>\n",
       "      <th>NET_RATING</th>\n",
       "      <th>OREB_PCT</th>\n",
       "      <th>DREB_PCT</th>\n",
       "      <th>USG_PCT</th>\n",
       "      <th>TS_PCT</th>\n",
       "      <th>AST_PCT</th>\n",
       "    </tr>\n",
       "  </thead>\n",
       "  <tbody>\n",
       "    <tr>\n",
       "      <th>0</th>\n",
       "      <td>203932</td>\n",
       "      <td>Aaron Gordon</td>\n",
       "      <td>1610612743</td>\n",
       "      <td>DEN</td>\n",
       "      <td>25.0</td>\n",
       "      <td>6-8</td>\n",
       "      <td>80</td>\n",
       "      <td>235</td>\n",
       "      <td>Arizona</td>\n",
       "      <td>USA</td>\n",
       "      <td>...</td>\n",
       "      <td>50</td>\n",
       "      <td>618</td>\n",
       "      <td>284</td>\n",
       "      <td>161</td>\n",
       "      <td>2.1</td>\n",
       "      <td>0.055</td>\n",
       "      <td>0.150</td>\n",
       "      <td>0.204</td>\n",
       "      <td>0.547</td>\n",
       "      <td>0.165</td>\n",
       "    </tr>\n",
       "    <tr>\n",
       "      <th>1</th>\n",
       "      <td>1628988</td>\n",
       "      <td>Aaron Holiday</td>\n",
       "      <td>1610612754</td>\n",
       "      <td>IND</td>\n",
       "      <td>24.0</td>\n",
       "      <td>6-0</td>\n",
       "      <td>72</td>\n",
       "      <td>185</td>\n",
       "      <td>UCLA</td>\n",
       "      <td>USA</td>\n",
       "      <td>...</td>\n",
       "      <td>66</td>\n",
       "      <td>475</td>\n",
       "      <td>89</td>\n",
       "      <td>123</td>\n",
       "      <td>-0.2</td>\n",
       "      <td>0.012</td>\n",
       "      <td>0.060</td>\n",
       "      <td>0.189</td>\n",
       "      <td>0.503</td>\n",
       "      <td>0.139</td>\n",
       "    </tr>\n",
       "    <tr>\n",
       "      <th>2</th>\n",
       "      <td>1630174</td>\n",
       "      <td>Aaron Nesmith</td>\n",
       "      <td>1610612738</td>\n",
       "      <td>BOS</td>\n",
       "      <td>21.0</td>\n",
       "      <td>6-5</td>\n",
       "      <td>77</td>\n",
       "      <td>215</td>\n",
       "      <td>Vanderbilt</td>\n",
       "      <td>USA</td>\n",
       "      <td>...</td>\n",
       "      <td>46</td>\n",
       "      <td>218</td>\n",
       "      <td>127</td>\n",
       "      <td>23</td>\n",
       "      <td>-0.5</td>\n",
       "      <td>0.041</td>\n",
       "      <td>0.146</td>\n",
       "      <td>0.133</td>\n",
       "      <td>0.573</td>\n",
       "      <td>0.047</td>\n",
       "    </tr>\n",
       "    <tr>\n",
       "      <th>3</th>\n",
       "      <td>1627846</td>\n",
       "      <td>Abdel Nader</td>\n",
       "      <td>1610612756</td>\n",
       "      <td>PHX</td>\n",
       "      <td>27.0</td>\n",
       "      <td>6-5</td>\n",
       "      <td>77</td>\n",
       "      <td>225</td>\n",
       "      <td>Iowa State</td>\n",
       "      <td>Egypt</td>\n",
       "      <td>...</td>\n",
       "      <td>24</td>\n",
       "      <td>160</td>\n",
       "      <td>62</td>\n",
       "      <td>19</td>\n",
       "      <td>5.0</td>\n",
       "      <td>0.020</td>\n",
       "      <td>0.151</td>\n",
       "      <td>0.183</td>\n",
       "      <td>0.605</td>\n",
       "      <td>0.078</td>\n",
       "    </tr>\n",
       "    <tr>\n",
       "      <th>4</th>\n",
       "      <td>1629690</td>\n",
       "      <td>Adam Mokoka</td>\n",
       "      <td>1610612741</td>\n",
       "      <td>CHI</td>\n",
       "      <td>22.0</td>\n",
       "      <td>6-4</td>\n",
       "      <td>76</td>\n",
       "      <td>190</td>\n",
       "      <td>None</td>\n",
       "      <td>France</td>\n",
       "      <td>...</td>\n",
       "      <td>14</td>\n",
       "      <td>15</td>\n",
       "      <td>5</td>\n",
       "      <td>5</td>\n",
       "      <td>-7.1</td>\n",
       "      <td>0.017</td>\n",
       "      <td>0.077</td>\n",
       "      <td>0.171</td>\n",
       "      <td>0.386</td>\n",
       "      <td>0.179</td>\n",
       "    </tr>\n",
       "    <tr>\n",
       "      <th>...</th>\n",
       "      <td>...</td>\n",
       "      <td>...</td>\n",
       "      <td>...</td>\n",
       "      <td>...</td>\n",
       "      <td>...</td>\n",
       "      <td>...</td>\n",
       "      <td>...</td>\n",
       "      <td>...</td>\n",
       "      <td>...</td>\n",
       "      <td>...</td>\n",
       "      <td>...</td>\n",
       "      <td>...</td>\n",
       "      <td>...</td>\n",
       "      <td>...</td>\n",
       "      <td>...</td>\n",
       "      <td>...</td>\n",
       "      <td>...</td>\n",
       "      <td>...</td>\n",
       "      <td>...</td>\n",
       "      <td>...</td>\n",
       "      <td>...</td>\n",
       "    </tr>\n",
       "    <tr>\n",
       "      <th>535</th>\n",
       "      <td>1627812</td>\n",
       "      <td>Yogi Ferrell</td>\n",
       "      <td>1610612746</td>\n",
       "      <td>LAC</td>\n",
       "      <td>28.0</td>\n",
       "      <td>6-0</td>\n",
       "      <td>72</td>\n",
       "      <td>178</td>\n",
       "      <td>Indiana</td>\n",
       "      <td>USA</td>\n",
       "      <td>...</td>\n",
       "      <td>10</td>\n",
       "      <td>56</td>\n",
       "      <td>19</td>\n",
       "      <td>22</td>\n",
       "      <td>-0.4</td>\n",
       "      <td>0.034</td>\n",
       "      <td>0.095</td>\n",
       "      <td>0.193</td>\n",
       "      <td>0.459</td>\n",
       "      <td>0.229</td>\n",
       "    </tr>\n",
       "    <tr>\n",
       "      <th>536</th>\n",
       "      <td>1629139</td>\n",
       "      <td>Yuta Watanabe</td>\n",
       "      <td>1610612761</td>\n",
       "      <td>TOR</td>\n",
       "      <td>26.0</td>\n",
       "      <td>6-9</td>\n",
       "      <td>81</td>\n",
       "      <td>215</td>\n",
       "      <td>George Washington</td>\n",
       "      <td>Japan</td>\n",
       "      <td>...</td>\n",
       "      <td>50</td>\n",
       "      <td>218</td>\n",
       "      <td>159</td>\n",
       "      <td>40</td>\n",
       "      <td>-2.7</td>\n",
       "      <td>0.046</td>\n",
       "      <td>0.171</td>\n",
       "      <td>0.121</td>\n",
       "      <td>0.565</td>\n",
       "      <td>0.079</td>\n",
       "    </tr>\n",
       "    <tr>\n",
       "      <th>537</th>\n",
       "      <td>203897</td>\n",
       "      <td>Zach LaVine</td>\n",
       "      <td>1610612741</td>\n",
       "      <td>CHI</td>\n",
       "      <td>26.0</td>\n",
       "      <td>6-5</td>\n",
       "      <td>77</td>\n",
       "      <td>200</td>\n",
       "      <td>UCLA</td>\n",
       "      <td>USA</td>\n",
       "      <td>...</td>\n",
       "      <td>58</td>\n",
       "      <td>1591</td>\n",
       "      <td>289</td>\n",
       "      <td>282</td>\n",
       "      <td>-0.8</td>\n",
       "      <td>0.018</td>\n",
       "      <td>0.121</td>\n",
       "      <td>0.302</td>\n",
       "      <td>0.634</td>\n",
       "      <td>0.225</td>\n",
       "    </tr>\n",
       "    <tr>\n",
       "      <th>538</th>\n",
       "      <td>1630192</td>\n",
       "      <td>Zeke Nnaji</td>\n",
       "      <td>1610612743</td>\n",
       "      <td>DEN</td>\n",
       "      <td>20.0</td>\n",
       "      <td>6-9</td>\n",
       "      <td>81</td>\n",
       "      <td>240</td>\n",
       "      <td>Arizona</td>\n",
       "      <td>USA</td>\n",
       "      <td>...</td>\n",
       "      <td>42</td>\n",
       "      <td>136</td>\n",
       "      <td>65</td>\n",
       "      <td>10</td>\n",
       "      <td>-10.5</td>\n",
       "      <td>0.034</td>\n",
       "      <td>0.129</td>\n",
       "      <td>0.126</td>\n",
       "      <td>0.615</td>\n",
       "      <td>0.037</td>\n",
       "    </tr>\n",
       "    <tr>\n",
       "      <th>539</th>\n",
       "      <td>1629627</td>\n",
       "      <td>Zion Williamson</td>\n",
       "      <td>1610612740</td>\n",
       "      <td>NOP</td>\n",
       "      <td>20.0</td>\n",
       "      <td>6-7</td>\n",
       "      <td>79</td>\n",
       "      <td>284</td>\n",
       "      <td>Duke</td>\n",
       "      <td>USA</td>\n",
       "      <td>...</td>\n",
       "      <td>61</td>\n",
       "      <td>1647</td>\n",
       "      <td>441</td>\n",
       "      <td>226</td>\n",
       "      <td>2.1</td>\n",
       "      <td>0.081</td>\n",
       "      <td>0.131</td>\n",
       "      <td>0.287</td>\n",
       "      <td>0.649</td>\n",
       "      <td>0.188</td>\n",
       "    </tr>\n",
       "  </tbody>\n",
       "</table>\n",
       "<p>540 rows × 23 columns</p>\n",
       "</div>"
      ],
      "text/plain": [
       "     PLAYER_ID      PLAYER_NAME     TEAM_ID TEAM_ABBREVIATION   AGE  \\\n",
       "0       203932     Aaron Gordon  1610612743               DEN  25.0   \n",
       "1      1628988    Aaron Holiday  1610612754               IND  24.0   \n",
       "2      1630174    Aaron Nesmith  1610612738               BOS  21.0   \n",
       "3      1627846      Abdel Nader  1610612756               PHX  27.0   \n",
       "4      1629690      Adam Mokoka  1610612741               CHI  22.0   \n",
       "..         ...              ...         ...               ...   ...   \n",
       "535    1627812     Yogi Ferrell  1610612746               LAC  28.0   \n",
       "536    1629139    Yuta Watanabe  1610612761               TOR  26.0   \n",
       "537     203897      Zach LaVine  1610612741               CHI  26.0   \n",
       "538    1630192       Zeke Nnaji  1610612743               DEN  20.0   \n",
       "539    1629627  Zion Williamson  1610612740               NOP  20.0   \n",
       "\n",
       "    PLAYER_HEIGHT  PLAYER_HEIGHT_INCHES PLAYER_WEIGHT            COLLEGE  \\\n",
       "0             6-8                    80           235            Arizona   \n",
       "1             6-0                    72           185               UCLA   \n",
       "2             6-5                    77           215         Vanderbilt   \n",
       "3             6-5                    77           225         Iowa State   \n",
       "4             6-4                    76           190               None   \n",
       "..            ...                   ...           ...                ...   \n",
       "535           6-0                    72           178            Indiana   \n",
       "536           6-9                    81           215  George Washington   \n",
       "537           6-5                    77           200               UCLA   \n",
       "538           6-9                    81           240            Arizona   \n",
       "539           6-7                    79           284               Duke   \n",
       "\n",
       "    COUNTRY  ...  GP   PTS  REB  AST  NET_RATING  OREB_PCT  DREB_PCT  USG_PCT  \\\n",
       "0       USA  ...  50   618  284  161         2.1     0.055     0.150    0.204   \n",
       "1       USA  ...  66   475   89  123        -0.2     0.012     0.060    0.189   \n",
       "2       USA  ...  46   218  127   23        -0.5     0.041     0.146    0.133   \n",
       "3     Egypt  ...  24   160   62   19         5.0     0.020     0.151    0.183   \n",
       "4    France  ...  14    15    5    5        -7.1     0.017     0.077    0.171   \n",
       "..      ...  ...  ..   ...  ...  ...         ...       ...       ...      ...   \n",
       "535     USA  ...  10    56   19   22        -0.4     0.034     0.095    0.193   \n",
       "536   Japan  ...  50   218  159   40        -2.7     0.046     0.171    0.121   \n",
       "537     USA  ...  58  1591  289  282        -0.8     0.018     0.121    0.302   \n",
       "538     USA  ...  42   136   65   10       -10.5     0.034     0.129    0.126   \n",
       "539     USA  ...  61  1647  441  226         2.1     0.081     0.131    0.287   \n",
       "\n",
       "     TS_PCT  AST_PCT  \n",
       "0     0.547    0.165  \n",
       "1     0.503    0.139  \n",
       "2     0.573    0.047  \n",
       "3     0.605    0.078  \n",
       "4     0.386    0.179  \n",
       "..      ...      ...  \n",
       "535   0.459    0.229  \n",
       "536   0.565    0.079  \n",
       "537   0.634    0.225  \n",
       "538   0.615    0.037  \n",
       "539   0.649    0.188  \n",
       "\n",
       "[540 rows x 23 columns]"
      ]
     },
     "execution_count": 3,
     "metadata": {},
     "output_type": "execute_result"
    }
   ],
   "source": [
    "playerbiostats = leaguedashplayerbiostats.LeagueDashPlayerBioStats()\n",
    "playerbiostats.get_data_frames()[0]"
   ]
  },
  {
   "cell_type": "markdown",
   "id": "4634206d",
   "metadata": {},
   "source": [
    "Let's run some standard statistics on height, weight, and points"
   ]
  },
  {
   "cell_type": "code",
   "execution_count": 58,
   "id": "19503717",
   "metadata": {},
   "outputs": [
    {
     "name": "stdout",
     "output_type": "stream",
     "text": [
      "average height = 78.31296296296296 inches\n",
      "max height = 89 inches\n",
      "min height = 69 inches\n"
     ]
    },
    {
     "data": {
      "image/png": "[encoded data removed]",
      "text/plain": [
       "<Figure size 432x288 with 1 Axes>"
      ]
     },
     "metadata": {
      "needs_background": "light"
     },
     "output_type": "display_data"
    }
   ],
   "source": [
    "height = playerbiostats.get_data_frames()[0][\"PLAYER_HEIGHT_INCHES\"]\n",
    "\n",
    "# matplotlib histogram\n",
    "plt.hist(height, color = 'blue', edgecolor = 'black',\n",
    "         bins = 5)\n",
    "\n",
    "# Add labels\n",
    "plt.title('Histogram of NBA Players Height')\n",
    "plt.xlabel('Height (inches)')\n",
    "plt.ylabel('Number of Players')\n",
    "\n",
    "print('average height = ' + str(np.mean(height)) + ' inches')\n",
    "print('max height = ' + str(np.max(height)) + ' inches')\n",
    "print('min height = ' + str(np.min(height)) + ' inches')"
   ]
  },
  {
   "cell_type": "code",
   "execution_count": 59,
   "id": "6292ee1e",
   "metadata": {},
   "outputs": [
    {
     "name": "stdout",
     "output_type": "stream",
     "text": [
      "average weight = 217.0 pounds\n",
      "max weight = 311 pounds\n",
      "min weight = 160 pounds\n"
     ]
    },
    {
     "data": {
      "image/png": "[encoded data removed]",
      "text/plain": [
       "<Figure size 432x288 with 1 Axes>"
      ]
     },
     "metadata": {
      "needs_background": "light"
     },
     "output_type": "display_data"
    }
   ],
   "source": [
    "weight = playerbiostats.get_data_frames()[0][\"PLAYER_WEIGHT\"]\n",
    "\n",
    "# weight is stored as str? convert to int\n",
    "weight = pd.to_numeric(weight, errors='coerce')\n",
    "\n",
    "# matplotlib histogram\n",
    "plt.hist(weight, color = 'blue', edgecolor = 'black',\n",
    "         bins = 5)\n",
    "\n",
    "# Add labels\n",
    "plt.title('Histogram of NBA Players Weight')\n",
    "plt.xlabel('Weight (lbs)')\n",
    "plt.ylabel('Number of Players')\n",
    "\n",
    "print('average weight = ' + str(round(np.mean(weight),0)) + ' pounds')\n",
    "print('max weight = ' + str(np.max(weight)) + ' pounds')\n",
    "print('min weight = ' + str(np.min(weight)) + ' pounds')"
   ]
  },
  {
   "cell_type": "code",
   "execution_count": 60,
   "id": "e9ae733c",
   "metadata": {},
   "outputs": [
    {
     "data": {
      "text/plain": [
       "Text(0, 0.5, 'Number of Players')"
      ]
     },
     "execution_count": 60,
     "metadata": {},
     "output_type": "execute_result"
    },
    {
     "data": {
      "image/png": "[encoded data removed]",
      "text/plain": [
       "<Figure size 432x288 with 1 Axes>"
      ]
     },
     "metadata": {
      "needs_background": "light"
     },
     "output_type": "display_data"
    }
   ],
   "source": [
    "points = playerbiostats.get_data_frames()[0][\"PTS\"]\n",
    "# matplotlib histogram\n",
    "plt.hist(points, color = 'blue', edgecolor = 'black',\n",
    "         bins = 5)\n",
    "\n",
    "# Add labels\n",
    "plt.title('Histogram of NBA Players Points')\n",
    "plt.xlabel('Points')\n",
    "plt.ylabel('Number of Players')"
   ]
  },
  {
   "cell_type": "markdown",
   "id": "b8449576",
   "metadata": {},
   "source": [
    "Unsurprisingly, height is normally distributed and weight is left skew-distributed.\n",
    "Points however is highly left skew."
   ]
  },
  {
   "cell_type": "markdown",
   "id": "9430f384",
   "metadata": {},
   "source": [
    "### Graph the relationship between Height and Points Scored"
   ]
  },
  {
   "cell_type": "code",
   "execution_count": 40,
   "id": "f5ea22aa",
   "metadata": {},
   "outputs": [
    {
     "data": {
      "image/png": "[encoded data removed]",
      "text/plain": [
       "<Figure size 432x288 with 2 Axes>"
      ]
     },
     "metadata": {
      "needs_background": "light"
     },
     "output_type": "display_data"
    }
   ],
   "source": [
    "# Create some mock data\n",
    "index = np.arange(1, 541, 1)\n",
    "\n",
    "fig, ax1 = plt.subplots()\n",
    "\n",
    "color = 'tab:red'\n",
    "ax1.set_xlabel('Index')\n",
    "ax1.set_ylabel('Points Scored (2020-2021)', color=color)\n",
    "ax1.scatter(index, points, color=color, marker=\"o\")\n",
    "ax1.tick_params(axis='y', labelcolor=color)\n",
    "\n",
    "ax2 = ax1.twinx()  # instantiate a second axes that shares the same x-axis\n",
    "\n",
    "color = 'tab:blue'\n",
    "ax2.set_ylabel('Height (inches)', color=color)  # we already handled the x-label with ax1\n",
    "ax2.scatter(index, height, color=color, marker=\"o\")\n",
    "ax2.tick_params(axis='y', labelcolor=color)\n",
    "\n",
    "fig.tight_layout()  # otherwise the right y-label is slightly clipped\n",
    "plt.show()"
   ]
  },
  {
   "cell_type": "markdown",
   "id": "e7f984f6",
   "metadata": {},
   "source": [
    "#### Well this isn't useful. Lets try to sort the data by height and points ascending and graph again"
   ]
  },
  {
   "cell_type": "code",
   "execution_count": 46,
   "id": "1f4d6bc5",
   "metadata": {},
   "outputs": [],
   "source": [
    "bio_stats_sorted = playerbiostats.get_data_frames()[0].sort_values(by=['PLAYER_HEIGHT_INCHES', 'PTS'])"
   ]
  },
  {
   "cell_type": "code",
   "execution_count": 54,
   "id": "e74ebb21",
   "metadata": {},
   "outputs": [
    {
     "data": {
      "image/png": "[encoded data removed]",
      "text/plain": [
       "<Figure size 432x288 with 2 Axes>"
      ]
     },
     "metadata": {
      "needs_background": "light"
     },
     "output_type": "display_data"
    }
   ],
   "source": [
    "height = bio_stats_sorted[\"PLAYER_HEIGHT_INCHES\"]\n",
    "points = bio_stats_sorted[\"PTS\"]\n",
    "average_points = bio_stats_sorted[\"PTS\"].mean()\n",
    "\n",
    "# Create some mock data\n",
    "index = np.arange(1, 541, 1)\n",
    "\n",
    "fig, ax1 = plt.subplots()\n",
    "\n",
    "color = 'tab:red'\n",
    "ax1.set_xlabel('Index')\n",
    "ax1.set_ylabel('Points Scored (2020-2021)', color=color)\n",
    "ax1.scatter(index, points, color=color, marker=\"o\")\n",
    "ax1.tick_params(axis='y', labelcolor=color)\n",
    "\n",
    "ax2 = ax1.twinx()  # instantiate a second axes that shares the same x-axis\n",
    "\n",
    "color = 'tab:blue'\n",
    "ax2.set_ylabel('Height (inches)', color=color)  # we already handled the x-label with ax1\n",
    "ax2.scatter(index, height, color=color, marker=\"o\")\n",
    "ax2.tick_params(axis='y', labelcolor=color)\n",
    "\n",
    "fig.tight_layout()  # otherwise the right y-label is slightly clipped\n",
    "\n",
    "plt.show()"
   ]
  },
  {
   "cell_type": "markdown",
   "id": "98898391",
   "metadata": {},
   "source": [
    "The majority of players are scoring less than 700 points in the 2020-2021 season. However there are more players scoring higher than 700 points in the lower height category"
   ]
  },
  {
   "cell_type": "code",
   "execution_count": null,
   "id": "7a2c47c5",
   "metadata": {},
   "outputs": [],
   "source": []
  }
 ],
 "metadata": {
  "kernelspec": {
   "display_name": "Python 3",
   "language": "python",
   "name": "python3"
  },
  "language_info": {
   "codemirror_mode": {
    "name": "ipython",
    "version": 3
   },
   "file_extension": ".py",
   "mimetype": "text/x-python",
   "name": "python",
   "nbconvert_exporter": "python",
   "pygments_lexer": "ipython3",
   "version": "3.8.8"
  }
 },
 "nbformat": 4,
 "nbformat_minor": 5
}
